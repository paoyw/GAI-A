{
 "cells": [
  {
   "cell_type": "code",
   "execution_count": null,
   "metadata": {},
   "outputs": [],
   "source": [
    "from img2video import inference_by_imgs\n",
    "from pathlib import Path\n",
    "\n",
    "def load_prompts(prompt_file):\n",
    "    f = open(prompt_file, 'r')\n",
    "    prompt_list = []\n",
    "    for idx, line in enumerate(f.readlines()):\n",
    "        l = line.strip()\n",
    "        if len(l) != 0:\n",
    "            prompt_list.append(l)\n",
    "        f.close()\n",
    "    return prompt_list"
   ]
  },
  {
   "cell_type": "code",
   "execution_count": null,
   "metadata": {},
   "outputs": [],
   "source": [
    "prompt_dir = Path('Dynamicrafter/testprompts')\n",
    "imgs = sorted(list(prompt_dir.glob(\"*.[jpJP][npNP][egEG]*\")))\n",
    "prompts = load_prompts(prompt_dir / 'test_prompts.txt')\n",
    "from PIL import Image\n",
    "imgs = [Image.open(img_path).convert('RGB') for img_path in imgs]"
   ]
  },
  {
   "cell_type": "code",
   "execution_count": null,
   "metadata": {},
   "outputs": [],
   "source": [
    "inference_by_imgs(imgs, prompts)"
   ]
  }
 ],
 "metadata": {
  "kernelspec": {
   "display_name": "videopipeline",
   "language": "python",
   "name": "python3"
  },
  "language_info": {
   "codemirror_mode": {
    "name": "ipython",
    "version": 3
   },
   "file_extension": ".py",
   "mimetype": "text/x-python",
   "name": "python",
   "nbconvert_exporter": "python",
   "pygments_lexer": "ipython3",
   "version": "3.9.19"
  }
 },
 "nbformat": 4,
 "nbformat_minor": 2
}
