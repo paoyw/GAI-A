{
 "cells": [
  {
   "cell_type": "code",
   "execution_count": 1,
   "metadata": {},
   "outputs": [
    {
     "name": "stderr",
     "output_type": "stream",
     "text": [
      "/tmp2/b09902128/miniconda3/envs/videopipeline/lib/python3.9/site-packages/tqdm/auto.py:21: TqdmWarning: IProgress not found. Please update jupyter and ipywidgets. See https://ipywidgets.readthedocs.io/en/stable/user_install.html\n",
      "  from .autonotebook import tqdm as notebook_tqdm\n"
     ]
    }
   ],
   "source": [
    "from videopipeline import Args, inference_by_imgs\n",
    "from pathlib import Path\n",
    "\n",
    "def load_prompts(prompt_file):\n",
    "    f = open(prompt_file, 'r')\n",
    "    prompt_list = []\n",
    "    for idx, line in enumerate(f.readlines()):\n",
    "        l = line.strip()\n",
    "        if len(l) != 0:\n",
    "            prompt_list.append(l)\n",
    "        f.close()\n",
    "    return prompt_list"
   ]
  },
  {
   "cell_type": "code",
   "execution_count": 2,
   "metadata": {},
   "outputs": [],
   "source": [
    "prompt_dir = Path('testprompts')\n",
    "imgs = sorted(list(prompt_dir.glob(\"*.[jpJP][npNP][egEG]*\")))\n",
    "prompts = load_prompts(prompt_dir / 'test_prompts.txt')\n",
    "\n",
    "args = Args()"
   ]
  },
  {
   "cell_type": "code",
   "execution_count": 3,
   "metadata": {},
   "outputs": [
    {
     "name": "stdout",
     "output_type": "stream",
     "text": [
      "AE working on z of shape (1, 4, 32, 32) = 4096 dimensions.\n",
      ">>> model checkpoint loaded.\n",
      "Inference with 32 frames\n"
     ]
    },
    {
     "name": "stderr",
     "output_type": "stream",
     "text": [
      "3it [01:53, 37.90s/it]\n",
      "/tmp2/b09902128/miniconda3/envs/videopipeline/lib/python3.9/site-packages/torch/nn/utils/weight_norm.py:30: UserWarning: torch.nn.utils.weight_norm is deprecated in favor of torch.nn.utils.parametrizations.weight_norm.\n",
      "  warnings.warn(\"torch.nn.utils.weight_norm is deprecated in favor of torch.nn.utils.parametrizations.weight_norm.\")\n"
     ]
    }
   ],
   "source": [
    "inference_by_imgs(args, imgs, prompts)"
   ]
  }
 ],
 "metadata": {
  "kernelspec": {
   "display_name": "videopipeline",
   "language": "python",
   "name": "python3"
  },
  "language_info": {
   "codemirror_mode": {
    "name": "ipython",
    "version": 3
   },
   "file_extension": ".py",
   "mimetype": "text/x-python",
   "name": "python",
   "nbconvert_exporter": "python",
   "pygments_lexer": "ipython3",
   "version": "3.9.19"
  }
 },
 "nbformat": 4,
 "nbformat_minor": 2
}
